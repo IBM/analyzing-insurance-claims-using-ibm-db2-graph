{
 "cells": [
  {
   "cell_type": "markdown",
   "metadata": {},
   "source": [
    "#### Copyright IBM All Rights Reserved.\n",
    "#### SPDX-License-Identifier: Apache-2.0"
   ]
  },
  {
   "cell_type": "code",
   "execution_count": 1,
   "metadata": {},
   "outputs": [],
   "source": [
    "graph_port = \"8182\"\n",
    "graph_connect_protocol = \"wss://\"\n",
    "graph_hostname = \"localhost\"\n",
    "\n",
    "graph_connect_info = {\n",
    "    \"graph_url\": graph_connect_protocol + graph_hostname + \":\" + graph_port + \"/gremlin\",\n",
    "    \"graph_username\": \"graph_user\",\n",
    "    \"graph_password\": \"db2graph\",\n",
    "    \"graph_name\": \"insurance\"\n",
    "}\n",
    "\n",
    "# Update these values to match the Db2 instance you are using for the demo\n",
    "db2_connect_info = {\n",
    "    \"db2_database_name\": \"BLUDB\",\n",
    "    \"db2_port\": \"50001\",\n",
    "    \"db2_hostname\": \"dashdb-txn-flex-yp-dal13-149.services.dal.bluemix.net\",\n",
    "    \"db2_username\": \"bluadmin\",\n",
    "    \"db2_password\": \"M2NiZDg3ZmJmZGVj\"\n",
    "}\n",
    "#### If your Db2 instance uses SSL uncomment the line below\n",
    "db2_connect_info[\"db2_database_name\"] = db2_connect_info[\"db2_database_name\"]  + \";SECURITY=SSL\"\n",
    "####"
   ]
  },
  {
   "cell_type": "code",
   "execution_count": null,
   "metadata": {},
   "outputs": [],
   "source": []
  }
 ],
 "metadata": {
  "kernelspec": {
   "display_name": "Python 3",
   "language": "python",
   "name": "python3"
  },
  "language_info": {
   "codemirror_mode": {
    "name": "ipython",
    "version": 3
   },
   "file_extension": ".py",
   "mimetype": "text/x-python",
   "name": "python",
   "nbconvert_exporter": "python",
   "pygments_lexer": "ipython3",
   "version": "3.8.2"
  }
 },
 "nbformat": 4,
 "nbformat_minor": 4
}
